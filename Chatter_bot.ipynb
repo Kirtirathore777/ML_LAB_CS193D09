{
  "nbformat": 4,
  "nbformat_minor": 0,
  "metadata": {
    "colab": {
      "name": "Chatter_bot.ipynb",
      "provenance": []
    },
    "kernelspec": {
      "name": "python3",
      "display_name": "Python 3"
    },
    "language_info": {
      "name": "python"
    }
  },
  "cells": [
    {
      "cell_type": "markdown",
      "metadata": {
        "id": "31x2MNLi6aMF"
      },
      "source": [
        "### #For example, let’s say you want to search all words that start with “a” in the string \"abc def\" . The code you will write is:"
      ]
    },
    {
      "cell_type": "code",
      "metadata": {
        "colab": {
          "base_uri": "https://localhost:8080/"
        },
        "id": "HkBX0kJY6D4v",
        "outputId": "68063d75-b9d6-4967-cbbd-0bb550535cdd"
      },
      "source": [
        "import re\n",
        "re.search(\"^a\", \"abc def\")"
      ],
      "execution_count": 1,
      "outputs": [
        {
          "output_type": "execute_result",
          "data": {
            "text/plain": [
              "<re.Match object; span=(0, 1), match='a'>"
            ]
          },
          "metadata": {
            "tags": []
          },
          "execution_count": 1
        }
      ]
    },
    {
      "cell_type": "code",
      "metadata": {
        "colab": {
          "base_uri": "https://localhost:8080/"
        },
        "id": "q2e1AJqk6tAK",
        "outputId": "ffb8f50e-3cf2-4966-c2cd-416fdd28963b"
      },
      "source": [
        "if re.search(\"^a\", \"abc\"):\n",
        "    print(\"Found!!!\")"
      ],
      "execution_count": 2,
      "outputs": [
        {
          "output_type": "stream",
          "text": [
            "Found!!!\n"
          ],
          "name": "stdout"
        }
      ]
    },
    {
      "cell_type": "markdown",
      "metadata": {
        "id": "T6YtXq1E64SD"
      },
      "source": [
        "\n",
        "### #Let’s say that you want to find all words that end with one or more “e”. You can use the +  operator:"
      ]
    },
    {
      "cell_type": "code",
      "metadata": {
        "colab": {
          "base_uri": "https://localhost:8080/"
        },
        "id": "MBQFUz8661ac",
        "outputId": "538129b3-e6f9-47fb-8084-33e099ca9cd0"
      },
      "source": [
        "words = ['TEXT', 'EASTee', 'BESTe']\n",
        "words_ending_with_one_or_more_e = [w for w in words if re.search(\"e+$\", w)]\n",
        "words_ending_with_one_or_more_e"
      ],
      "execution_count": 3,
      "outputs": [
        {
          "output_type": "execute_result",
          "data": {
            "text/plain": [
              "['EASTee', 'BESTe']"
            ]
          },
          "metadata": {
            "tags": []
          },
          "execution_count": 3
        }
      ]
    },
    {
      "cell_type": "code",
      "metadata": {
        "id": "UglEnn2R7Rpq"
      },
      "source": [
        "#You can use it as well in list comprehensions to find words that end with “ed”, for example:"
      ],
      "execution_count": null,
      "outputs": []
    },
    {
      "cell_type": "code",
      "metadata": {
        "colab": {
          "base_uri": "https://localhost:8080/"
        },
        "id": "j3nlO-Ba7SqF",
        "outputId": "6810cddd-c1d8-44a2-c909-00dba020469f"
      },
      "source": [
        "words = ['TEXT', 'EAST', 'BESTed']\n",
        "words_ending_with_ed = [w for w in words if re.search(\"ed$\", w)]\n",
        "words_ending_with_ed"
      ],
      "execution_count": 4,
      "outputs": [
        {
          "output_type": "execute_result",
          "data": {
            "text/plain": [
              "['BESTed']"
            ]
          },
          "metadata": {
            "tags": []
          },
          "execution_count": 4
        }
      ]
    },
    {
      "cell_type": "code",
      "metadata": {
        "colab": {
          "base_uri": "https://localhost:8080/"
        },
        "id": "LzEQcLEq7bFL",
        "outputId": "c9a5c796-e521-4dee-f0e1-5dc9f76ffa9c"
      },
      "source": [
        "words = ['TEXT', 'EAST', '#BESTe']\n",
        "words_begin_with_hash = [w for w in words if re.search(\"^#\", w)]\n",
        "words_begin_with_hash"
      ],
      "execution_count": 5,
      "outputs": [
        {
          "output_type": "execute_result",
          "data": {
            "text/plain": [
              "['#BESTe']"
            ]
          },
          "metadata": {
            "tags": []
          },
          "execution_count": 5
        }
      ]
    },
    {
      "cell_type": "code",
      "metadata": {
        "colab": {
          "base_uri": "https://localhost:8080/"
        },
        "id": "7LtOKN0x7gPk",
        "outputId": "f143f56d-19ab-4c32-cdb9-f6b261f60108"
      },
      "source": [
        "#NLTK has an algorithm named as \"PorterStemmer\". This algorithm accepts the list of tokenized word and stems it into root word.\n",
        "from nltk.stem import PorterStemmer\n",
        "e_words= [\"wait\", \"waiting\", \"waited\", \"waits\"]\n",
        "ps =PorterStemmer()\n",
        "for w in e_words:\n",
        "    rootWord=ps.stem(w)\n",
        "    print(rootWord)"
      ],
      "execution_count": 6,
      "outputs": [
        {
          "output_type": "stream",
          "text": [
            "wait\n",
            "wait\n",
            "wait\n",
            "wait\n"
          ],
          "name": "stdout"
        }
      ]
    },
    {
      "cell_type": "code",
      "metadata": {
        "colab": {
          "base_uri": "https://localhost:8080/"
        },
        "id": "K4ZRJ3MT7m95",
        "outputId": "dd5fa44b-4b91-4ec3-90b2-bf5e1166343b"
      },
      "source": [
        "!pip install nltk\n",
        "!pip install punct"
      ],
      "execution_count": 7,
      "outputs": [
        {
          "output_type": "stream",
          "text": [
            "Requirement already satisfied: nltk in /usr/local/lib/python3.7/dist-packages (3.2.5)\n",
            "Requirement already satisfied: six in /usr/local/lib/python3.7/dist-packages (from nltk) (1.15.0)\n",
            "Collecting punct\n",
            "  Downloading https://files.pythonhosted.org/packages/6a/cd/15969db72379cf6470a0f9630639c7441c2b302375fcbc28ce5c442fea36/punct-1.2.2.tar.gz\n",
            "Building wheels for collected packages: punct\n",
            "  Building wheel for punct (setup.py) ... \u001b[?25l\u001b[?25hdone\n",
            "  Created wheel for punct: filename=punct-1.2.2-cp37-none-any.whl size=5627 sha256=910cd1e713c6edfb6093e164b8daa1f49c5ce1f56521841f05bef77b09119b4d\n",
            "  Stored in directory: /root/.cache/pip/wheels/61/2f/3e/8abc5334209ca91ef3dfdd5dc98879ed29779b6c886abd3bc0\n",
            "Successfully built punct\n",
            "Installing collected packages: punct\n",
            "Successfully installed punct-1.2.2\n"
          ],
          "name": "stdout"
        }
      ]
    },
    {
      "cell_type": "code",
      "metadata": {
        "colab": {
          "base_uri": "https://localhost:8080/",
          "height": 128
        },
        "id": "JEZeDFh87uNq",
        "outputId": "94b743c9-bfe4-4744-ec39-89c857c6ebda"
      },
      "source": [
        "paragraph to sentences"
      ],
      "execution_count": 8,
      "outputs": [
        {
          "output_type": "error",
          "ename": "SyntaxError",
          "evalue": "ignored",
          "traceback": [
            "\u001b[0;36m  File \u001b[0;32m\"<ipython-input-8-b0125dd662d5>\"\u001b[0;36m, line \u001b[0;32m1\u001b[0m\n\u001b[0;31m    paragraph to sentences\u001b[0m\n\u001b[0m               ^\u001b[0m\n\u001b[0;31mSyntaxError\u001b[0m\u001b[0;31m:\u001b[0m invalid syntax\n"
          ]
        }
      ]
    },
    {
      "cell_type": "code",
      "metadata": {
        "colab": {
          "base_uri": "https://localhost:8080/"
        },
        "id": "HEpqPHZx71mh",
        "outputId": "1efc5d11-0d3b-4796-d3fa-b1c84ede9ed2"
      },
      "source": [
        "import nltk\n",
        "nltk.download('punkt')\n",
        "from nltk.tokenize import sent_tokenize\n",
        "text=\" Hello Mr. Smith, how are you doing today? The weather is great, and city is awesome.The sky is pinkish-blue. You shouldn't eat cardboard\"\n",
        "tokenized_text=sent_tokenize(text)\n",
        "print(tokenized_text)"
      ],
      "execution_count": 9,
      "outputs": [
        {
          "output_type": "stream",
          "text": [
            "[nltk_data] Downloading package punkt to /root/nltk_data...\n",
            "[nltk_data]   Unzipping tokenizers/punkt.zip.\n",
            "[' Hello Mr. Smith, how are you doing today?', 'The weather is great, and city is awesome.The sky is pinkish-blue.', \"You shouldn't eat cardboard\"]\n"
          ],
          "name": "stdout"
        }
      ]
    },
    {
      "cell_type": "markdown",
      "metadata": {
        "id": "WxNoPjEb7-Pe"
      },
      "source": [
        "Chatbots are typically used in dialog systems for various practical purposes including customer service or information acquisition. Some chatterbots use sophisticated natural language processing systems, but many simpler systems scan for keywords within the input, then pull a reply with the most matching keywords, or the most similar wording pattern, from a database.\n",
        "\n",
        "In order to successfully build a conversational engine, it should take care of the following things:\n",
        "\n",
        "1.Understand who is the target audience\n",
        "\n",
        "2.Understand the Natural Language of the communication.\n",
        "\n",
        "3.Understand the intent or desire of the user\n",
        "\n",
        "4.provide responses that can answer the user\n",
        "\n",
        "Today we will learn to create a simple chat assistant or chatbot using Python’s NLTK library.\n",
        "\n",
        "NLTK has a module, nltk.chat, which simplifies building these engines by providing a generic framework. Chat: This is a class that has all the logic that is used by the chatbot. Reflections: This is a dictionary that contains a set of input values and its corresponding output values. It is an optional dictionary that you can use. You can also create your own dictionary in the same format as below and use it in your code. reflections = { \"i am\" : \"you are\", \"i was\" : \"you were\", \"i\" : \"you\", \"i'm\" : \"you are\", \"i'd\" : \"you would\", \"i've\" : \"you have\", \"i'll\" : \"you will\", \"my\" : \"your\", \"you are\" : \"I am\", \"you were\" : \"I was\", \"you've\" : \"I have\", \"you'll\" : \"I will\", \"your\" : \"my\", \"yours\" : \"mine\", \"you\" : \"me\", \"me\" : \"you\" }"
      ]
    },
    {
      "cell_type": "code",
      "metadata": {
        "colab": {
          "base_uri": "https://localhost:8080/",
          "height": 807
        },
        "id": "-_fOXjmU8Iq5",
        "outputId": "579a9e45-c390-4d41-f773-9a957ba257f8"
      },
      "source": [
        "from nltk.chat.util import Chat, reflections\n",
        "pairs = [\n",
        "    [\n",
        "        r\"my name is (.*)\",\n",
        "        [\"Hello %1, How are you today ?\",]\n",
        "    ],\n",
        "     [\n",
        "        r\"what is your name ?\",\n",
        "        [\"My name is Chatty and I'm a chatbot ?\",]\n",
        "    ],\n",
        "    [\n",
        "        r\"how are you ?\",\n",
        "        [\"I'm doing good\\nHow about You ?\",]\n",
        "    ],\n",
        "    [\n",
        "        r\"sorry (.*)\",\n",
        "        [\"Its alright\",\"Its OK, never mind\",]\n",
        "    ],\n",
        "    [\n",
        "        r\"i'm (.*) doing good\",\n",
        "        [\"Nice to hear that\",\"Alright :)\",]\n",
        "    ],\n",
        "    [\n",
        "        r\"hi|hey|hello\",\n",
        "        [\"Hello\", \"Hey there\",]\n",
        "    ],\n",
        "    [\n",
        "        r\"(.*) age?\",\n",
        "        [\"I'm a computer program dude\\nSeriously you are asking me this?\",]\n",
        "        \n",
        "    ],\n",
        "    [\n",
        "        r\"what (.*) want ?\",\n",
        "        [\"Make me an offer I can't refuse\",]\n",
        "        \n",
        "    ],\n",
        "    [\n",
        "        r\"(.*) created ?\",\n",
        "        [\"Nagesh created me using Python's NLTK library \",\"top secret ;)\",]\n",
        "    ],\n",
        "    [\n",
        "        r\"(.*) (location|city) ?\",\n",
        "        ['Chennai, Tamil Nadu',]\n",
        "    ],\n",
        "    [\n",
        "        r\"how is weather in (.*)?\",\n",
        "        [\"Weather in %1 is awesome like always\",\"Too hot man here in %1\",\"Too cold man here in %1\",\"Never even heard about %1\"]\n",
        "    ],\n",
        "    [\n",
        "        r\"i work in (.*)?\",\n",
        "        [\"%1 is an Amazing company, I have heard about it. But they are in huge loss these days.\",]\n",
        "    ],\n",
        "    [\n",
        "        r\"(.*)raining in (.*)\",\n",
        "        [\"No rain since last week here in %2\",\"Damn its raining too much here in %2\"]\n",
        "    ],\n",
        "    [\n",
        "        r\"how (.*) health(.*)\",\n",
        "        [\"I'm a computer program, so I'm always healthy \",]\n",
        "    ],\n",
        "    [\n",
        "        r\"(.*) (sports|game) ?\",\n",
        "        [\"I'm a very big fan of Football\",]\n",
        "    ],\n",
        "    [\n",
        "        r\"who (.*) sportsperson ?\",\n",
        "        [\"Messy\",\"Ronaldo\",\"Roony\"]\n",
        "    ],\n",
        "    [\n",
        "        r\"who (.*) (moviestar|actor)?\",\n",
        "        [\"Brad Pitt\"]\n",
        "    ],\n",
        "    [\n",
        "        r\"quit\",\n",
        "        [\"BBye take care. See you soon :) \",\"It was nice talking to you. See you soon :)\"]\n",
        "    ],\n",
        "]\n",
        "def chatty():\n",
        "    print(\"Hi, I'm Chatty and I chat alot ;)\\nPlease type lowercase English language to start a conversation. Type quit to leave \") #default message at the start\n",
        "    chat = Chat(pairs, reflections)\n",
        "    chat.converse()\n",
        "if __name__ == \"__main__\":\n",
        "    chatty()\n"
      ],
      "execution_count": 10,
      "outputs": [
        {
          "output_type": "stream",
          "text": [
            "Hi, I'm Chatty and I chat alot ;)\n",
            "Please type lowercase English language to start a conversation. Type quit to leave \n",
            ">Hi\n",
            "Hello\n",
            ">Your name?\n",
            "None\n",
            ">How are you?\n",
            "I'm doing good\n",
            "How about You ?\n",
            ">Good\n",
            "None\n",
            ">Exit\n",
            "None\n",
            ">Quit\n",
            "BBye take care. See you soon :) \n",
            ">Bye\n",
            "None\n"
          ],
          "name": "stdout"
        },
        {
          "output_type": "error",
          "ename": "KeyboardInterrupt",
          "evalue": "ignored",
          "traceback": [
            "\u001b[0;31m---------------------------------------------------------------------------\u001b[0m",
            "\u001b[0;31mKeyboardInterrupt\u001b[0m                         Traceback (most recent call last)",
            "\u001b[0;32m/usr/local/lib/python3.7/dist-packages/ipykernel/kernelbase.py\u001b[0m in \u001b[0;36m_input_request\u001b[0;34m(self, prompt, ident, parent, password)\u001b[0m\n\u001b[1;32m    728\u001b[0m             \u001b[0;32mtry\u001b[0m\u001b[0;34m:\u001b[0m\u001b[0;34m\u001b[0m\u001b[0;34m\u001b[0m\u001b[0m\n\u001b[0;32m--> 729\u001b[0;31m                 \u001b[0mident\u001b[0m\u001b[0;34m,\u001b[0m \u001b[0mreply\u001b[0m \u001b[0;34m=\u001b[0m \u001b[0mself\u001b[0m\u001b[0;34m.\u001b[0m\u001b[0msession\u001b[0m\u001b[0;34m.\u001b[0m\u001b[0mrecv\u001b[0m\u001b[0;34m(\u001b[0m\u001b[0mself\u001b[0m\u001b[0;34m.\u001b[0m\u001b[0mstdin_socket\u001b[0m\u001b[0;34m,\u001b[0m \u001b[0;36m0\u001b[0m\u001b[0;34m)\u001b[0m\u001b[0;34m\u001b[0m\u001b[0;34m\u001b[0m\u001b[0m\n\u001b[0m\u001b[1;32m    730\u001b[0m             \u001b[0;32mexcept\u001b[0m \u001b[0mException\u001b[0m\u001b[0;34m:\u001b[0m\u001b[0;34m\u001b[0m\u001b[0;34m\u001b[0m\u001b[0m\n",
            "\u001b[0;32m/usr/local/lib/python3.7/dist-packages/jupyter_client/session.py\u001b[0m in \u001b[0;36mrecv\u001b[0;34m(self, socket, mode, content, copy)\u001b[0m\n\u001b[1;32m    802\u001b[0m         \u001b[0;32mtry\u001b[0m\u001b[0;34m:\u001b[0m\u001b[0;34m\u001b[0m\u001b[0;34m\u001b[0m\u001b[0m\n\u001b[0;32m--> 803\u001b[0;31m             \u001b[0mmsg_list\u001b[0m \u001b[0;34m=\u001b[0m \u001b[0msocket\u001b[0m\u001b[0;34m.\u001b[0m\u001b[0mrecv_multipart\u001b[0m\u001b[0;34m(\u001b[0m\u001b[0mmode\u001b[0m\u001b[0;34m,\u001b[0m \u001b[0mcopy\u001b[0m\u001b[0;34m=\u001b[0m\u001b[0mcopy\u001b[0m\u001b[0;34m)\u001b[0m\u001b[0;34m\u001b[0m\u001b[0;34m\u001b[0m\u001b[0m\n\u001b[0m\u001b[1;32m    804\u001b[0m         \u001b[0;32mexcept\u001b[0m \u001b[0mzmq\u001b[0m\u001b[0;34m.\u001b[0m\u001b[0mZMQError\u001b[0m \u001b[0;32mas\u001b[0m \u001b[0me\u001b[0m\u001b[0;34m:\u001b[0m\u001b[0;34m\u001b[0m\u001b[0;34m\u001b[0m\u001b[0m\n",
            "\u001b[0;32m/usr/local/lib/python3.7/dist-packages/zmq/sugar/socket.py\u001b[0m in \u001b[0;36mrecv_multipart\u001b[0;34m(self, flags, copy, track)\u001b[0m\n\u001b[1;32m    582\u001b[0m         \"\"\"\n\u001b[0;32m--> 583\u001b[0;31m         \u001b[0mparts\u001b[0m \u001b[0;34m=\u001b[0m \u001b[0;34m[\u001b[0m\u001b[0mself\u001b[0m\u001b[0;34m.\u001b[0m\u001b[0mrecv\u001b[0m\u001b[0;34m(\u001b[0m\u001b[0mflags\u001b[0m\u001b[0;34m,\u001b[0m \u001b[0mcopy\u001b[0m\u001b[0;34m=\u001b[0m\u001b[0mcopy\u001b[0m\u001b[0;34m,\u001b[0m \u001b[0mtrack\u001b[0m\u001b[0;34m=\u001b[0m\u001b[0mtrack\u001b[0m\u001b[0;34m)\u001b[0m\u001b[0;34m]\u001b[0m\u001b[0;34m\u001b[0m\u001b[0;34m\u001b[0m\u001b[0m\n\u001b[0m\u001b[1;32m    584\u001b[0m         \u001b[0;31m# have first part already, only loop while more to receive\u001b[0m\u001b[0;34m\u001b[0m\u001b[0;34m\u001b[0m\u001b[0;34m\u001b[0m\u001b[0m\n",
            "\u001b[0;32mzmq/backend/cython/socket.pyx\u001b[0m in \u001b[0;36mzmq.backend.cython.socket.Socket.recv\u001b[0;34m()\u001b[0m\n",
            "\u001b[0;32mzmq/backend/cython/socket.pyx\u001b[0m in \u001b[0;36mzmq.backend.cython.socket.Socket.recv\u001b[0;34m()\u001b[0m\n",
            "\u001b[0;32mzmq/backend/cython/socket.pyx\u001b[0m in \u001b[0;36mzmq.backend.cython.socket._recv_copy\u001b[0;34m()\u001b[0m\n",
            "\u001b[0;32m/usr/local/lib/python3.7/dist-packages/zmq/backend/cython/checkrc.pxd\u001b[0m in \u001b[0;36mzmq.backend.cython.checkrc._check_rc\u001b[0;34m()\u001b[0m\n",
            "\u001b[0;31mKeyboardInterrupt\u001b[0m: ",
            "\nDuring handling of the above exception, another exception occurred:\n",
            "\u001b[0;31mKeyboardInterrupt\u001b[0m                         Traceback (most recent call last)",
            "\u001b[0;32m<ipython-input-10-c2f98ee3f126>\u001b[0m in \u001b[0;36m<module>\u001b[0;34m()\u001b[0m\n\u001b[1;32m     81\u001b[0m     \u001b[0mchat\u001b[0m\u001b[0;34m.\u001b[0m\u001b[0mconverse\u001b[0m\u001b[0;34m(\u001b[0m\u001b[0;34m)\u001b[0m\u001b[0;34m\u001b[0m\u001b[0;34m\u001b[0m\u001b[0m\n\u001b[1;32m     82\u001b[0m \u001b[0;32mif\u001b[0m \u001b[0m__name__\u001b[0m \u001b[0;34m==\u001b[0m \u001b[0;34m\"__main__\"\u001b[0m\u001b[0;34m:\u001b[0m\u001b[0;34m\u001b[0m\u001b[0;34m\u001b[0m\u001b[0m\n\u001b[0;32m---> 83\u001b[0;31m     \u001b[0mchatty\u001b[0m\u001b[0;34m(\u001b[0m\u001b[0;34m)\u001b[0m\u001b[0;34m\u001b[0m\u001b[0;34m\u001b[0m\u001b[0m\n\u001b[0m",
            "\u001b[0;32m<ipython-input-10-c2f98ee3f126>\u001b[0m in \u001b[0;36mchatty\u001b[0;34m()\u001b[0m\n\u001b[1;32m     79\u001b[0m     \u001b[0mprint\u001b[0m\u001b[0;34m(\u001b[0m\u001b[0;34m\"Hi, I'm Chatty and I chat alot ;)\\nPlease type lowercase English language to start a conversation. Type quit to leave \"\u001b[0m\u001b[0;34m)\u001b[0m \u001b[0;31m#default message at the start\u001b[0m\u001b[0;34m\u001b[0m\u001b[0;34m\u001b[0m\u001b[0m\n\u001b[1;32m     80\u001b[0m     \u001b[0mchat\u001b[0m \u001b[0;34m=\u001b[0m \u001b[0mChat\u001b[0m\u001b[0;34m(\u001b[0m\u001b[0mpairs\u001b[0m\u001b[0;34m,\u001b[0m \u001b[0mreflections\u001b[0m\u001b[0;34m)\u001b[0m\u001b[0;34m\u001b[0m\u001b[0;34m\u001b[0m\u001b[0m\n\u001b[0;32m---> 81\u001b[0;31m     \u001b[0mchat\u001b[0m\u001b[0;34m.\u001b[0m\u001b[0mconverse\u001b[0m\u001b[0;34m(\u001b[0m\u001b[0;34m)\u001b[0m\u001b[0;34m\u001b[0m\u001b[0;34m\u001b[0m\u001b[0m\n\u001b[0m\u001b[1;32m     82\u001b[0m \u001b[0;32mif\u001b[0m \u001b[0m__name__\u001b[0m \u001b[0;34m==\u001b[0m \u001b[0;34m\"__main__\"\u001b[0m\u001b[0;34m:\u001b[0m\u001b[0;34m\u001b[0m\u001b[0;34m\u001b[0m\u001b[0m\n\u001b[1;32m     83\u001b[0m     \u001b[0mchatty\u001b[0m\u001b[0;34m(\u001b[0m\u001b[0;34m)\u001b[0m\u001b[0;34m\u001b[0m\u001b[0;34m\u001b[0m\u001b[0m\n",
            "\u001b[0;32m/usr/local/lib/python3.7/dist-packages/nltk/chat/util.py\u001b[0m in \u001b[0;36mconverse\u001b[0;34m(self, quit)\u001b[0m\n\u001b[1;32m    115\u001b[0m         \u001b[0;32mwhile\u001b[0m \u001b[0muser_input\u001b[0m \u001b[0;34m!=\u001b[0m \u001b[0mquit\u001b[0m\u001b[0;34m:\u001b[0m\u001b[0;34m\u001b[0m\u001b[0;34m\u001b[0m\u001b[0m\n\u001b[1;32m    116\u001b[0m             \u001b[0muser_input\u001b[0m \u001b[0;34m=\u001b[0m \u001b[0mquit\u001b[0m\u001b[0;34m\u001b[0m\u001b[0;34m\u001b[0m\u001b[0m\n\u001b[0;32m--> 117\u001b[0;31m             \u001b[0;32mtry\u001b[0m\u001b[0;34m:\u001b[0m \u001b[0muser_input\u001b[0m \u001b[0;34m=\u001b[0m \u001b[0minput\u001b[0m\u001b[0;34m(\u001b[0m\u001b[0;34m\">\"\u001b[0m\u001b[0;34m)\u001b[0m\u001b[0;34m\u001b[0m\u001b[0;34m\u001b[0m\u001b[0m\n\u001b[0m\u001b[1;32m    118\u001b[0m             \u001b[0;32mexcept\u001b[0m \u001b[0mEOFError\u001b[0m\u001b[0;34m:\u001b[0m\u001b[0;34m\u001b[0m\u001b[0;34m\u001b[0m\u001b[0m\n\u001b[1;32m    119\u001b[0m                 \u001b[0mprint\u001b[0m\u001b[0;34m(\u001b[0m\u001b[0muser_input\u001b[0m\u001b[0;34m)\u001b[0m\u001b[0;34m\u001b[0m\u001b[0;34m\u001b[0m\u001b[0m\n",
            "\u001b[0;32m/usr/local/lib/python3.7/dist-packages/ipykernel/kernelbase.py\u001b[0m in \u001b[0;36mraw_input\u001b[0;34m(self, prompt)\u001b[0m\n\u001b[1;32m    702\u001b[0m             \u001b[0mself\u001b[0m\u001b[0;34m.\u001b[0m\u001b[0m_parent_ident\u001b[0m\u001b[0;34m,\u001b[0m\u001b[0;34m\u001b[0m\u001b[0;34m\u001b[0m\u001b[0m\n\u001b[1;32m    703\u001b[0m             \u001b[0mself\u001b[0m\u001b[0;34m.\u001b[0m\u001b[0m_parent_header\u001b[0m\u001b[0;34m,\u001b[0m\u001b[0;34m\u001b[0m\u001b[0;34m\u001b[0m\u001b[0m\n\u001b[0;32m--> 704\u001b[0;31m             \u001b[0mpassword\u001b[0m\u001b[0;34m=\u001b[0m\u001b[0;32mFalse\u001b[0m\u001b[0;34m,\u001b[0m\u001b[0;34m\u001b[0m\u001b[0;34m\u001b[0m\u001b[0m\n\u001b[0m\u001b[1;32m    705\u001b[0m         )\n\u001b[1;32m    706\u001b[0m \u001b[0;34m\u001b[0m\u001b[0m\n",
            "\u001b[0;32m/usr/local/lib/python3.7/dist-packages/ipykernel/kernelbase.py\u001b[0m in \u001b[0;36m_input_request\u001b[0;34m(self, prompt, ident, parent, password)\u001b[0m\n\u001b[1;32m    732\u001b[0m             \u001b[0;32mexcept\u001b[0m \u001b[0mKeyboardInterrupt\u001b[0m\u001b[0;34m:\u001b[0m\u001b[0;34m\u001b[0m\u001b[0;34m\u001b[0m\u001b[0m\n\u001b[1;32m    733\u001b[0m                 \u001b[0;31m# re-raise KeyboardInterrupt, to truncate traceback\u001b[0m\u001b[0;34m\u001b[0m\u001b[0;34m\u001b[0m\u001b[0;34m\u001b[0m\u001b[0m\n\u001b[0;32m--> 734\u001b[0;31m                 \u001b[0;32mraise\u001b[0m \u001b[0mKeyboardInterrupt\u001b[0m\u001b[0;34m\u001b[0m\u001b[0;34m\u001b[0m\u001b[0m\n\u001b[0m\u001b[1;32m    735\u001b[0m             \u001b[0;32melse\u001b[0m\u001b[0;34m:\u001b[0m\u001b[0;34m\u001b[0m\u001b[0;34m\u001b[0m\u001b[0m\n\u001b[1;32m    736\u001b[0m                 \u001b[0;32mbreak\u001b[0m\u001b[0;34m\u001b[0m\u001b[0;34m\u001b[0m\u001b[0m\n",
            "\u001b[0;31mKeyboardInterrupt\u001b[0m: "
          ]
        }
      ]
    },
    {
      "cell_type": "markdown",
      "metadata": {
        "id": "5nBL23jQ8yFz"
      },
      "source": [
        "CHAT BOT IMPLEMENTATION USING CHATTERBOT"
      ]
    },
    {
      "cell_type": "code",
      "metadata": {
        "colab": {
          "base_uri": "https://localhost:8080/"
        },
        "id": "6ier2RJe8yl-",
        "outputId": "d6b14d06-a4d8-44c9-a1ca-7b3a3b6b24b5"
      },
      "source": [
        "!pip install chatterbot"
      ],
      "execution_count": 11,
      "outputs": [
        {
          "output_type": "stream",
          "text": [
            "Collecting chatterbot\n",
            "\u001b[?25l  Downloading https://files.pythonhosted.org/packages/7c/21/85c2b114bd9dfabdd46ba58fc4519acdaed45d8c70898d40079e37a45e67/ChatterBot-1.0.8-py2.py3-none-any.whl (63kB)\n",
            "\r\u001b[K     |█████▏                          | 10kB 15.9MB/s eta 0:00:01\r\u001b[K     |██████████▎                     | 20kB 11.2MB/s eta 0:00:01\r\u001b[K     |███████████████▌                | 30kB 8.6MB/s eta 0:00:01\r\u001b[K     |████████████████████▋           | 40kB 7.5MB/s eta 0:00:01\r\u001b[K     |█████████████████████████▊      | 51kB 4.3MB/s eta 0:00:01\r\u001b[K     |███████████████████████████████ | 61kB 4.9MB/s eta 0:00:01\r\u001b[K     |████████████████████████████████| 71kB 3.1MB/s \n",
            "\u001b[?25hCollecting mathparse<0.2,>=0.1\n",
            "  Downloading https://files.pythonhosted.org/packages/c3/e5/4910fb85950cb960fcf3f5aabe1c8e55f5c9201788a1c1302b570a7e1f84/mathparse-0.1.2-py3-none-any.whl\n",
            "Collecting sqlalchemy<1.4,>=1.3\n",
            "\u001b[?25l  Downloading https://files.pythonhosted.org/packages/31/44/a86070dda790ce94cd7d9fb9281cd614c7d30850ed774ace9a84d0d5d491/SQLAlchemy-1.3.24-cp37-cp37m-manylinux2010_x86_64.whl (1.3MB)\n",
            "\u001b[K     |████████████████████████████████| 1.3MB 7.8MB/s \n",
            "\u001b[?25hRequirement already satisfied: pytz in /usr/local/lib/python3.7/dist-packages (from chatterbot) (2018.9)\n",
            "Requirement already satisfied: python-dateutil<2.9,>=2.8 in /usr/local/lib/python3.7/dist-packages (from chatterbot) (2.8.1)\n",
            "Requirement already satisfied: six>=1.5 in /usr/local/lib/python3.7/dist-packages (from python-dateutil<2.9,>=2.8->chatterbot) (1.15.0)\n",
            "Installing collected packages: mathparse, sqlalchemy, chatterbot\n",
            "  Found existing installation: SQLAlchemy 1.4.3\n",
            "    Uninstalling SQLAlchemy-1.4.3:\n",
            "      Successfully uninstalled SQLAlchemy-1.4.3\n",
            "Successfully installed chatterbot-1.0.8 mathparse-0.1.2 sqlalchemy-1.3.24\n"
          ],
          "name": "stdout"
        }
      ]
    },
    {
      "cell_type": "code",
      "metadata": {
        "colab": {
          "base_uri": "https://localhost:8080/"
        },
        "id": "87oGjBdU9JnL",
        "outputId": "bd1fed90-038a-406c-b1c0-5a2c268d6d45"
      },
      "source": [
        "\n",
        "#Importing basic libraries required\n",
        "from chatterbot import ChatBot\n",
        "from chatterbot.trainers import ListTrainer\n",
        "\n",
        "#Creating an instance of ChatBot\n",
        "chatbot = ChatBot(\"Vandana\")\n",
        "\n",
        "#Converstion for ChatBot\n",
        "conversation = [\n",
        "    \"Good morning\",\n",
        "    \"Hi there!\",\n",
        "    \"How are you doing?\",\n",
        "    \"I'm doing great.\",\n",
        "    \"That is good to hear\",\n",
        "    \"Thank you.\",\n",
        "    \"You're welcome.\"\n",
        "    \"What is your name\"\n",
        "    \"My name is FRIDAY\"\n",
        "    \"gduqgduqgdug\"\n",
        "]\n",
        "\n",
        "#Training ChatBot\n",
        "trainer = ListTrainer(chatbot)\n",
        "trainer.train(conversation)\n",
        "\n",
        "while True:\n",
        "    try:\n",
        "        bot_input = chatbot.get_response(input())\n",
        "        print(bot_input)\n",
        "\n",
        "    except(KeyboardInterrupt, EOFError, SystemExit):\n",
        "        break"
      ],
      "execution_count": null,
      "outputs": [
        {
          "output_type": "stream",
          "text": [
            "List Trainer: [####################] 100%\n",
            "Hi\n",
            "That is good to hear\n",
            "Yes\n",
            "Hi\n",
            "hello\n",
            "That is good to hear\n",
            "your name?\n",
            "Yes\n",
            "Kirti rathore\n",
            "Hi there!\n",
            "how are you?\n",
            "I'm doing great.\n",
            "quit\n",
            "your name?\n",
            "Kirti\n",
            "hello\n",
            "quit\n",
            "How are you doing?\n",
            "good\n",
            "I'm doing great.\n",
            "exit\n",
            "I'm doing great.\n"
          ],
          "name": "stdout"
        }
      ]
    }
  ]
}