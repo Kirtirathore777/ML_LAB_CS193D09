{
  "nbformat": 4,
  "nbformat_minor": 0,
  "metadata": {
    "colab": {
      "name": "Linear_regression_using_sklearn.ipynb",
      "provenance": [],
      "collapsed_sections": []
    },
    "kernelspec": {
      "name": "python3",
      "display_name": "Python 3"
    },
    "language_info": {
      "name": "python"
    }
  },
  "cells": [
    {
      "cell_type": "code",
      "metadata": {
        "id": "_hrY10Ks2VvU"
      },
      "source": [
        "#Step 1: Data Preprocessing\n",
        "from sklearn.model_selection import train_test_split \n",
        "import pandas as pd\n",
        "import numpy as np\n",
        "import matplotlib.pyplot as plt\n",
        "\n",
        "dataset = pd.read_csv('/content/drive/MyDrive/ML dataset/Admission_Predict.csv')\n",
        "X = dataset.iloc[ : ,   : 1 ].values\n",
        "Y = dataset.iloc[ : , 1 ].values\n",
        "\n",
        "X_train, X_test, Y_train, Y_test = train_test_split( X, Y, test_size = 1/4, random_state = 0)"
      ],
      "execution_count": 2,
      "outputs": []
    },
    {
      "cell_type": "code",
      "metadata": {
        "colab": {
          "base_uri": "https://localhost:8080/"
        },
        "id": "ownex-0s2jMG",
        "outputId": "a14c2105-287a-4119-96d6-8b9677f51493"
      },
      "source": [
        "from google.colab import drive\n",
        "drive.mount('/content/drive')"
      ],
      "execution_count": 3,
      "outputs": [
        {
          "output_type": "stream",
          "text": [
            "Drive already mounted at /content/drive; to attempt to forcibly remount, call drive.mount(\"/content/drive\", force_remount=True).\n"
          ],
          "name": "stdout"
        }
      ]
    },
    {
      "cell_type": "markdown",
      "metadata": {
        "id": "O3ogAInV3-TO"
      },
      "source": [
        "Step 2: Fitting Simple Linear Regression Model into the training set"
      ]
    },
    {
      "cell_type": "code",
      "metadata": {
        "id": "cQNMO4K34KxG"
      },
      "source": [
        "from sklearn.linear_model import LinearRegression\n",
        "regressor = LinearRegression()\n",
        "regressor = regressor.fit(X_train, Y_train)"
      ],
      "execution_count": 4,
      "outputs": []
    },
    {
      "cell_type": "markdown",
      "metadata": {
        "id": "PxI2Bsp24SlT"
      },
      "source": [
        "Step 3: Predecting the Result"
      ]
    },
    {
      "cell_type": "code",
      "metadata": {
        "id": "UoJFy1tC4YIu"
      },
      "source": [
        "Y_pred = regressor.predict(X_test)"
      ],
      "execution_count": 5,
      "outputs": []
    },
    {
      "cell_type": "markdown",
      "metadata": {
        "id": "coOHPoBY4c33"
      },
      "source": [
        "\n",
        "Step 4: Visualization"
      ]
    },
    {
      "cell_type": "code",
      "metadata": {
        "colab": {
          "base_uri": "https://localhost:8080/",
          "height": 282
        },
        "id": "abBHgDBX4hKU",
        "outputId": "9c9ce8df-c77b-4551-aecf-b3ec95f104db"
      },
      "source": [
        "plt.scatter(X_train , Y_train, color = 'green')\n",
        "plt.plot(X_train , regressor.predict(X_train), color ='red')"
      ],
      "execution_count": 7,
      "outputs": [
        {
          "output_type": "execute_result",
          "data": {
            "text/plain": [
              "[<matplotlib.lines.Line2D at 0x7f906ea30d50>]"
            ]
          },
          "metadata": {
            "tags": []
          },
          "execution_count": 7
        },
        {
          "output_type": "display_data",
          "data": {
            "image/png": "[encoded data removed]",
            "text/plain": [
              "<Figure size 432x288 with 1 Axes>"
            ]
          },
          "metadata": {
            "tags": [],
            "needs_background": "light"
          }
        }
      ]
    },
    {
      "cell_type": "code",
      "metadata": {
        "colab": {
          "base_uri": "https://localhost:8080/",
          "height": 285
        },
        "id": "FPEwP2j347RG",
        "outputId": "d6bb3456-1100-4253-aa6e-ad768f619c59"
      },
      "source": [
        "plt.scatter(X_test , Y_test, color = 'green')\n",
        "plt.plot(X_test , regressor.predict(X_test), color ='red')"
      ],
      "execution_count": 8,
      "outputs": [
        {
          "output_type": "execute_result",
          "data": {
            "text/plain": [
              "[<matplotlib.lines.Line2D at 0x7f906e8f6910>]"
            ]
          },
          "metadata": {
            "tags": []
          },
          "execution_count": 8
        },
        {
          "output_type": "display_data",
          "data": {
            "image/png": "[encoded data removed]",
            "text/plain": [
              "<Figure size 432x288 with 1 Axes>"
            ]
          },
          "metadata": {
            "tags": [],
            "needs_background": "light"
          }
        }
      ]
    }
  ]
}