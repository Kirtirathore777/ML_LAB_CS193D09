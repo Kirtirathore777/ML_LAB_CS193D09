{
  "nbformat": 4,
  "nbformat_minor": 0,
  "metadata": {
    "colab": {
      "name": "SVM_Support_Vector_Matrix.ipynb",
      "provenance": []
    },
    "kernelspec": {
      "name": "python3",
      "display_name": "Python 3"
    },
    "language_info": {
      "name": "python"
    }
  },
  "cells": [
    {
      "cell_type": "code",
      "metadata": {
        "colab": {
          "base_uri": "https://localhost:8080/"
        },
        "id": "UKdoOlh5pgfo",
        "outputId": "2747bc59-2e48-4648-ceee-f183d4ab38e1"
      },
      "source": [
        "from sklearn import datasets\n",
        " \n",
        "cancer_data = datasets.load_breast_cancer()\n",
        "print(cancer_data.data[5])"
      ],
      "execution_count": 1,
      "outputs": [
        {
          "output_type": "stream",
          "text": [
            "[1.245e+01 1.570e+01 8.257e+01 4.771e+02 1.278e-01 1.700e-01 1.578e-01\n",
            " 8.089e-02 2.087e-01 7.613e-02 3.345e-01 8.902e-01 2.217e+00 2.719e+01\n",
            " 7.510e-03 3.345e-02 3.672e-02 1.137e-02 2.165e-02 5.082e-03 1.547e+01\n",
            " 2.375e+01 1.034e+02 7.416e+02 1.791e-01 5.249e-01 5.355e-01 1.741e-01\n",
            " 3.985e-01 1.244e-01]\n"
          ],
          "name": "stdout"
        }
      ]
    },
    {
      "cell_type": "code",
      "metadata": {
        "colab": {
          "base_uri": "https://localhost:8080/"
        },
        "id": "n0zU6XmQpjqM",
        "outputId": "9556eaef-45fc-405d-e060-6cd5da862b5d"
      },
      "source": [
        "print(cancer_data.data.shape)\n",
        "#target set\n",
        "print(cancer_data.target)\n"
      ],
      "execution_count": 2,
      "outputs": [
        {
          "output_type": "stream",
          "text": [
            "(569, 30)\n",
            "[0 0 0 0 0 0 0 0 0 0 0 0 0 0 0 0 0 0 0 1 1 1 0 0 0 0 0 0 0 0 0 0 0 0 0 0 0\n",
            " 1 0 0 0 0 0 0 0 0 1 0 1 1 1 1 1 0 0 1 0 0 1 1 1 1 0 1 0 0 1 1 1 1 0 1 0 0\n",
            " 1 0 1 0 0 1 1 1 0 0 1 0 0 0 1 1 1 0 1 1 0 0 1 1 1 0 0 1 1 1 1 0 1 1 0 1 1\n",
            " 1 1 1 1 1 1 0 0 0 1 0 0 1 1 1 0 0 1 0 1 0 0 1 0 0 1 1 0 1 1 0 1 1 1 1 0 1\n",
            " 1 1 1 1 1 1 1 1 0 1 1 1 1 0 0 1 0 1 1 0 0 1 1 0 0 1 1 1 1 0 1 1 0 0 0 1 0\n",
            " 1 0 1 1 1 0 1 1 0 0 1 0 0 0 0 1 0 0 0 1 0 1 0 1 1 0 1 0 0 0 0 1 1 0 0 1 1\n",
            " 1 0 1 1 1 1 1 0 0 1 1 0 1 1 0 0 1 0 1 1 1 1 0 1 1 1 1 1 0 1 0 0 0 0 0 0 0\n",
            " 0 0 0 0 0 0 0 1 1 1 1 1 1 0 1 0 1 1 0 1 1 0 1 0 0 1 1 1 1 1 1 1 1 1 1 1 1\n",
            " 1 0 1 1 0 1 0 1 1 1 1 1 1 1 1 1 1 1 1 1 1 0 1 1 1 0 1 0 1 1 1 1 0 0 0 1 1\n",
            " 1 1 0 1 0 1 0 1 1 1 0 1 1 1 1 1 1 1 0 0 0 1 1 1 1 1 1 1 1 1 1 1 0 0 1 0 0\n",
            " 0 1 0 0 1 1 1 1 1 0 1 1 1 1 1 0 1 1 1 0 1 1 0 0 1 1 1 1 1 1 0 1 1 1 1 1 1\n",
            " 1 0 1 1 1 1 1 0 1 1 0 1 1 1 1 1 1 1 1 1 1 1 1 0 1 0 0 1 0 1 1 1 1 1 0 1 1\n",
            " 0 1 0 1 1 0 1 0 1 1 1 1 1 1 1 1 0 0 1 1 1 1 1 1 0 1 1 1 1 1 1 1 1 1 1 0 1\n",
            " 1 1 1 1 1 1 0 1 0 1 1 0 1 1 1 1 1 0 0 1 0 1 0 1 1 1 1 1 0 1 1 0 1 0 1 0 0\n",
            " 1 1 1 0 1 1 1 1 1 1 1 1 1 1 1 0 1 0 0 1 1 1 1 1 1 1 1 1 1 1 1 1 1 1 1 1 1\n",
            " 1 1 1 1 1 1 1 0 0 0 0 0 0 1]\n"
          ],
          "name": "stdout"
        }
      ]
    },
    {
      "cell_type": "markdown",
      "metadata": {
        "id": "IxJ4QFtAppOa"
      },
      "source": [
        "Splitting Data\n",
        "\n",
        "We will divide the data-set into a training set and test set to get accurate results. After this, we will split the data using the train_test_split() function. We will need 3 parameters like in the example below. The features to train the model, the target, and the test set size."
      ]
    },
    {
      "cell_type": "code",
      "metadata": {
        "id": "3CPN0sUlpqQR"
      },
      "source": [
        "from sklearn.model_selection import train_test_split\n",
        " \n",
        "cancer_data = datasets.load_breast_cancer()\n",
        " \n",
        "X_train, X_test, y_train, y_test = train_test_split(cancer_data.data, cancer_data.target, test_size=0.4,random_state=109)"
      ],
      "execution_count": 3,
      "outputs": []
    },
    {
      "cell_type": "markdown",
      "metadata": {
        "id": "766WuGhhpwkR"
      },
      "source": [
        "\n",
        "Generating The Model\n",
        "\n",
        "To generate the model, we will first import the SVM module from sklearn to create a support vector classifier in svc() by passing the argument kernel as the linear kernel.\n",
        "\n",
        "Then we will train the data-set using the set() and make predictions using the predict() function.\n",
        "\n",
        "You may use \"rbf\" or \"poly\""
      ]
    },
    {
      "cell_type": "code",
      "metadata": {
        "id": "e5LNzuvbpxhr"
      },
      "source": [
        "from sklearn import svm\n",
        "#create a classifier\n",
        "cls = svm.SVC(kernel=\"linear\")\n",
        "#train the model\n",
        "cls.fit(X_train,y_train)\n",
        "#predict the response\n",
        "pred = cls.predict(X_test)"
      ],
      "execution_count": 4,
      "outputs": []
    },
    {
      "cell_type": "markdown",
      "metadata": {
        "id": "NH2ZuXXjp2Cf"
      },
      "source": [
        "Evaluating the Model With this, we can predict how accurately the model or classifier can predict if the patient has heart disease or not. So we will calculate the accuracy score, recall, and precision for our evaluation."
      ]
    },
    {
      "cell_type": "code",
      "metadata": {
        "colab": {
          "base_uri": "https://localhost:8080/"
        },
        "id": "Uc3iqL1Cp2xF",
        "outputId": "7f0ab9dc-5dca-481a-afe1-eb64570fdb06"
      },
      "source": [
        "from sklearn import metrics\n",
        "#accuracy\n",
        "print(\"acuracy:\", metrics.accuracy_score(y_test,y_pred=pred))\n",
        "#precision score\n",
        "print(\"precision:\", metrics.precision_score(y_test,y_pred=pred))\n",
        "#recall score\n",
        "print(\"recall\" , metrics.recall_score(y_test,y_pred=pred))\n",
        "print(metrics.classification_report(y_test, y_pred=pred))\n"
      ],
      "execution_count": 5,
      "outputs": [
        {
          "output_type": "stream",
          "text": [
            "acuracy: 0.9649122807017544\n",
            "precision: 0.9642857142857143\n",
            "recall 0.9782608695652174\n",
            "              precision    recall  f1-score   support\n",
            "\n",
            "           0       0.97      0.94      0.96        90\n",
            "           1       0.96      0.98      0.97       138\n",
            "\n",
            "    accuracy                           0.96       228\n",
            "   macro avg       0.97      0.96      0.96       228\n",
            "weighted avg       0.96      0.96      0.96       228\n",
            "\n"
          ],
          "name": "stdout"
        }
      ]
    }
  ]
}