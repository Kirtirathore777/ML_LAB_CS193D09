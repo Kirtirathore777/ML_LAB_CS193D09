{
  "nbformat": 4,
  "nbformat_minor": 0,
  "metadata": {
    "colab": {
      "name": "Cifar_10.ipynb",
      "provenance": []
    },
    "kernelspec": {
      "name": "python3",
      "display_name": "Python 3"
    },
    "language_info": {
      "name": "python"
    }
  },
  "cells": [
    {
      "cell_type": "code",
      "metadata": {
        "id": "ZlF_XH9bTZ9_"
      },
      "source": [
        "import warnings\n",
        "warnings.filterwarnings('ignore')\n",
        "\n",
        "import numpy as np\n",
        "import matplotlib.pyplot as plt\n",
        "import keras\n",
        "from keras.datasets import mnist\n",
        "from keras.models import Sequential,model_from_json\n",
        "from keras.layers import Dense\n",
        "from keras.optimizers import RMSprop\n",
        "import pylab as plt"
      ],
      "execution_count": 1,
      "outputs": []
    },
    {
      "cell_type": "code",
      "metadata": {
        "colab": {
          "base_uri": "https://localhost:8080/"
        },
        "id": "3R24yD0dTgao",
        "outputId": "34c043a1-48fb-4a2f-ca86-7cfc48aae3cb"
      },
      "source": [
        "from keras.datasets import cifar10\n",
        "batch_size = 128\n",
        "num_classes = 10\n",
        "epochs = 2\n",
        "\n",
        "# the data, split between train and test sets\n",
        "(x_train, y_train), (x_test, y_test) = cifar10.load_data()\n",
        "print('x_train shape:', x_train.shape)\n",
        "print(x_train.shape[0], 'train samples')\n",
        "print(x_test.shape[0], 'test samples')\n",
        "\n",
        "x_train = x_train.reshape(50000, 3072)\n",
        "x_test = x_test.reshape(10000, 3072)\n",
        "x_train = x_train.astype('float32')\n",
        "x_test = x_test.astype('float32')\n",
        "\n",
        "# Normalize to 0 to 1 range\n",
        "x_train /= 255\n",
        "x_test /= 255\n",
        "\n",
        "print(x_train.shape[0], 'train samples')\n",
        "print(x_test.shape[0], 'test samples')\n",
        "# convert class vectors to binary class matrices\n",
        "y_train = keras.utils.to_categorical(y_train, num_classes)\n",
        "y_test = keras.utils.to_categorical(y_test, num_classes)\n"
      ],
      "execution_count": 2,
      "outputs": [
        {
          "output_type": "stream",
          "text": [
            "Downloading data from https://www.cs.toronto.edu/~kriz/cifar-10-python.tar.gz\n",
            "170500096/170498071 [==============================] - 2s 0us/step\n",
            "x_train shape: (50000, 32, 32, 3)\n",
            "50000 train samples\n",
            "10000 test samples\n",
            "50000 train samples\n",
            "10000 test samples\n"
          ],
          "name": "stdout"
        }
      ]
    },
    {
      "cell_type": "code",
      "metadata": {
        "colab": {
          "base_uri": "https://localhost:8080/",
          "height": 283
        },
        "id": "WIJwl7pdTsQw",
        "outputId": "917a5aed-393d-4f40-a35d-24a290f0eaf6"
      },
      "source": [
        "print(\"Label:\",y_test[12:13])\n",
        "plt.imshow(x_test[12:13].reshape(32,32,3), cmap='gray')\n",
        "plt.show()"
      ],
      "execution_count": 3,
      "outputs": [
        {
          "output_type": "stream",
          "text": [
            "Label: [[0. 0. 0. 0. 0. 1. 0. 0. 0. 0.]]\n"
          ],
          "name": "stdout"
        },
        {
          "output_type": "display_data",
          "data": {
            "image/png": "[encoded data removed]",
            "text/plain": [
              "<Figure size 432x288 with 1 Axes>"
            ]
          },
          "metadata": {
            "tags": [],
            "needs_background": "light"
          }
        }
      ]
    },
    {
      "cell_type": "code",
      "metadata": {
        "colab": {
          "base_uri": "https://localhost:8080/"
        },
        "id": "Guzjik96Tw0t",
        "outputId": "9d380f9d-5a4e-4fd3-9cb6-ef446a6c2911"
      },
      "source": [
        "from keras.layers import Dropout\n",
        "from keras.optimizers import RMSprop\n",
        "\n",
        "model = Sequential()\n",
        "\n",
        "model.add(Dense(2048,activation='relu', input_shape=(3072,)))\n",
        "\n",
        "model.add(Dense(1024, activation='relu'))\n",
        "\n",
        "model.add(Dense(512, activation='relu'))\n",
        "model.add(Dense(128, activation='relu'))\n",
        "model.add(Dense(64, activation='relu'))\n",
        "model.add(Dense(32, activation='relu'))\n",
        "model.add(Dense(num_classes, activation='softmax'))\n",
        "\n",
        "model.summary()\n",
        "#multiclassthereforecategoricalcrossentropy\n",
        "model.compile(loss='categorical_crossentropy',\n",
        "              optimizer=RMSprop(),\n",
        "              metrics=['accuracy'])\n",
        "\n",
        "history = model.fit(x_train, y_train,\n",
        "                    batch_size=batch_size,\n",
        "                    epochs=5,\n",
        "                    verbose=1,\n",
        "                    validation_data=(x_test, y_test))\n",
        "score = model.evaluate(x_test, y_test, verbose=0)\n",
        "print('Test loss:', score[0])\n",
        "print('Test accuracy:', score[1])"
      ],
      "execution_count": 4,
      "outputs": [
        {
          "output_type": "stream",
          "text": [
            "Model: \"sequential\"\n",
            "_________________________________________________________________\n",
            "Layer (type)                 Output Shape              Param #   \n",
            "=================================================================\n",
            "dense (Dense)                (None, 2048)              6293504   \n",
            "_________________________________________________________________\n",
            "dense_1 (Dense)              (None, 1024)              2098176   \n",
            "_________________________________________________________________\n",
            "dense_2 (Dense)              (None, 512)               524800    \n",
            "_________________________________________________________________\n",
            "dense_3 (Dense)              (None, 128)               65664     \n",
            "_________________________________________________________________\n",
            "dense_4 (Dense)              (None, 64)                8256      \n",
            "_________________________________________________________________\n",
            "dense_5 (Dense)              (None, 32)                2080      \n",
            "_________________________________________________________________\n",
            "dense_6 (Dense)              (None, 10)                330       \n",
            "=================================================================\n",
            "Total params: 8,992,810\n",
            "Trainable params: 8,992,810\n",
            "Non-trainable params: 0\n",
            "_________________________________________________________________\n",
            "Epoch 1/5\n",
            "391/391 [==============================] - 66s 166ms/step - loss: 2.5476 - accuracy: 0.1553 - val_loss: 2.1142 - val_accuracy: 0.2746\n",
            "Epoch 2/5\n",
            "391/391 [==============================] - 64s 163ms/step - loss: 1.9064 - accuracy: 0.3147 - val_loss: 1.7630 - val_accuracy: 0.3549\n",
            "Epoch 3/5\n",
            "391/391 [==============================] - 64s 164ms/step - loss: 1.7911 - accuracy: 0.3570 - val_loss: 1.7993 - val_accuracy: 0.3422\n",
            "Epoch 4/5\n",
            "391/391 [==============================] - 65s 165ms/step - loss: 1.7129 - accuracy: 0.3865 - val_loss: 1.6616 - val_accuracy: 0.3963\n",
            "Epoch 5/5\n",
            "391/391 [==============================] - 68s 173ms/step - loss: 1.6644 - accuracy: 0.4061 - val_loss: 1.6768 - val_accuracy: 0.3823\n",
            "Test loss: 1.6768310070037842\n",
            "Test accuracy: 0.3822999894618988\n"
          ],
          "name": "stdout"
        }
      ]
    },
    {
      "cell_type": "code",
      "metadata": {
        "colab": {
          "base_uri": "https://localhost:8080/"
        },
        "id": "dLDQ64I-T3y2",
        "outputId": "c395faa3-3dc9-451e-edc4-11c312a30e85"
      },
      "source": [
        "from keras.layers import Dropout\n",
        "from keras.optimizers import Adam\n",
        "\n",
        "model = Sequential()\n",
        "\n",
        "model.add(Dense(4096,activation='tanh', input_shape=(3072,)))\n",
        "\n",
        "model.add(Dense(1024, activation='relu'))\n",
        "\n",
        "model.add(Dense(512, activation='relu'))\n",
        "model.add(Dense(128, activation='relu'))\n",
        "model.add(Dense(64, activation='relu'))\n",
        "model.add(Dense(32, activation='relu'))\n",
        "model.add(Dense(num_classes, activation='softmax'))\n",
        "\n",
        "model.summary()\n",
        "model.compile(loss='categorical_crossentropy',\n",
        "              optimizer=Adam(),\n",
        "              metrics=['accuracy'])\n",
        "\n",
        "history = model.fit(x_train, y_train,\n",
        "                    batch_size=batch_size,\n",
        "                    epochs=5,\n",
        "                    verbose=1,\n",
        "                    validation_data=(x_test, y_test))\n",
        "score = model.evaluate(x_test, y_test, verbose=0)\n",
        "print('Test loss:', score[0])\n",
        "print('Test accuracy:', score[1])\n"
      ],
      "execution_count": 5,
      "outputs": [
        {
          "output_type": "stream",
          "text": [
            "Model: \"sequential_1\"\n",
            "_________________________________________________________________\n",
            "Layer (type)                 Output Shape              Param #   \n",
            "=================================================================\n",
            "dense_7 (Dense)              (None, 4096)              12587008  \n",
            "_________________________________________________________________\n",
            "dense_8 (Dense)              (None, 1024)              4195328   \n",
            "_________________________________________________________________\n",
            "dense_9 (Dense)              (None, 512)               524800    \n",
            "_________________________________________________________________\n",
            "dense_10 (Dense)             (None, 128)               65664     \n",
            "_________________________________________________________________\n",
            "dense_11 (Dense)             (None, 64)                8256      \n",
            "_________________________________________________________________\n",
            "dense_12 (Dense)             (None, 32)                2080      \n",
            "_________________________________________________________________\n",
            "dense_13 (Dense)             (None, 10)                330       \n",
            "=================================================================\n",
            "Total params: 17,383,466\n",
            "Trainable params: 17,383,466\n",
            "Non-trainable params: 0\n",
            "_________________________________________________________________\n",
            "Epoch 1/5\n",
            "391/391 [==============================] - 111s 282ms/step - loss: 2.2345 - accuracy: 0.1663 - val_loss: 1.9194 - val_accuracy: 0.2867\n",
            "Epoch 2/5\n",
            "391/391 [==============================] - 110s 282ms/step - loss: 1.8969 - accuracy: 0.3042 - val_loss: 1.8367 - val_accuracy: 0.3119\n",
            "Epoch 3/5\n",
            "391/391 [==============================] - 110s 282ms/step - loss: 1.8334 - accuracy: 0.3310 - val_loss: 1.7728 - val_accuracy: 0.3528\n",
            "Epoch 4/5\n",
            "391/391 [==============================] - 110s 281ms/step - loss: 1.7990 - accuracy: 0.3432 - val_loss: 1.7437 - val_accuracy: 0.3655\n",
            "Epoch 5/5\n",
            "391/391 [==============================] - 111s 284ms/step - loss: 1.7702 - accuracy: 0.3529 - val_loss: 1.7101 - val_accuracy: 0.3807\n",
            "Test loss: 1.7100934982299805\n",
            "Test accuracy: 0.3806999921798706\n"
          ],
          "name": "stdout"
        }
      ]
    },
    {
      "cell_type": "code",
      "metadata": {
        "colab": {
          "base_uri": "https://localhost:8080/"
        },
        "id": "I-Ss3QujUij3",
        "outputId": "31602c57-8e38-4b3f-8a74-7bfaaab746e0"
      },
      "source": [
        "from keras.layers import Dropout\n",
        "from keras.optimizers import Adam\n",
        "\n",
        "model = Sequential()\n",
        "\n",
        "model.add(Dense(1024,activation='relu', input_shape=(3072,)))\n",
        "\n",
        "model.add(Dense(1024, activation='relu'))\n",
        "\n",
        "model.add(Dense(512, activation='relu'))\n",
        "model.add(Dense(128, activation='relu'))\n",
        "model.add(Dense(64, activation='relu'))\n",
        "model.add(Dense(32, activation='relu'))\n",
        "model.add(Dense(num_classes, activation='softmax'))\n",
        "\n",
        "model.summary()\n",
        "model.compile(loss='categorical_crossentropy',\n",
        "              optimizer=Adam(),\n",
        "              metrics=['accuracy'])\n",
        "\n",
        "history = model.fit(x_train, y_train,\n",
        "                    batch_size=batch_size,\n",
        "                    epochs=15,\n",
        "                    verbose=1,\n",
        "                    validation_data=(x_test, y_test))\n",
        "score = model.evaluate(x_test, y_test, verbose=0)\n",
        "print('Test loss:', score[0])\n",
        "print('Test accuracy:', score[1])\n"
      ],
      "execution_count": 6,
      "outputs": [
        {
          "output_type": "stream",
          "text": [
            "Model: \"sequential_2\"\n",
            "_________________________________________________________________\n",
            "Layer (type)                 Output Shape              Param #   \n",
            "=================================================================\n",
            "dense_14 (Dense)             (None, 1024)              3146752   \n",
            "_________________________________________________________________\n",
            "dense_15 (Dense)             (None, 1024)              1049600   \n",
            "_________________________________________________________________\n",
            "dense_16 (Dense)             (None, 512)               524800    \n",
            "_________________________________________________________________\n",
            "dense_17 (Dense)             (None, 128)               65664     \n",
            "_________________________________________________________________\n",
            "dense_18 (Dense)             (None, 64)                8256      \n",
            "_________________________________________________________________\n",
            "dense_19 (Dense)             (None, 32)                2080      \n",
            "_________________________________________________________________\n",
            "dense_20 (Dense)             (None, 10)                330       \n",
            "=================================================================\n",
            "Total params: 4,797,482\n",
            "Trainable params: 4,797,482\n",
            "Non-trainable params: 0\n",
            "_________________________________________________________________\n",
            "Epoch 1/15\n",
            "391/391 [==============================] - 32s 81ms/step - loss: 2.1778 - accuracy: 0.1918 - val_loss: 1.8543 - val_accuracy: 0.3220\n",
            "Epoch 2/15\n",
            "391/391 [==============================] - 31s 80ms/step - loss: 1.7692 - accuracy: 0.3632 - val_loss: 1.6478 - val_accuracy: 0.4009\n",
            "Epoch 3/15\n",
            "391/391 [==============================] - 31s 81ms/step - loss: 1.6584 - accuracy: 0.4029 - val_loss: 1.6440 - val_accuracy: 0.4175\n",
            "Epoch 4/15\n",
            "391/391 [==============================] - 32s 81ms/step - loss: 1.5930 - accuracy: 0.4291 - val_loss: 1.5274 - val_accuracy: 0.4590\n",
            "Epoch 5/15\n",
            "391/391 [==============================] - 32s 81ms/step - loss: 1.5156 - accuracy: 0.4540 - val_loss: 1.6050 - val_accuracy: 0.4257\n",
            "Epoch 6/15\n",
            "391/391 [==============================] - 32s 81ms/step - loss: 1.4867 - accuracy: 0.4642 - val_loss: 1.4885 - val_accuracy: 0.4719\n",
            "Epoch 7/15\n",
            "391/391 [==============================] - 32s 81ms/step - loss: 1.4456 - accuracy: 0.4831 - val_loss: 1.4953 - val_accuracy: 0.4667\n",
            "Epoch 8/15\n",
            "391/391 [==============================] - 32s 81ms/step - loss: 1.4018 - accuracy: 0.4982 - val_loss: 1.4635 - val_accuracy: 0.4777\n",
            "Epoch 9/15\n",
            "391/391 [==============================] - 32s 81ms/step - loss: 1.3743 - accuracy: 0.5085 - val_loss: 1.4214 - val_accuracy: 0.4909\n",
            "Epoch 10/15\n",
            "391/391 [==============================] - 32s 82ms/step - loss: 1.3260 - accuracy: 0.5254 - val_loss: 1.4208 - val_accuracy: 0.4988\n",
            "Epoch 11/15\n",
            "391/391 [==============================] - 32s 81ms/step - loss: 1.2978 - accuracy: 0.5375 - val_loss: 1.4364 - val_accuracy: 0.4913\n",
            "Epoch 12/15\n",
            "391/391 [==============================] - 32s 81ms/step - loss: 1.2606 - accuracy: 0.5497 - val_loss: 1.3956 - val_accuracy: 0.5095\n",
            "Epoch 13/15\n",
            "391/391 [==============================] - 32s 81ms/step - loss: 1.2257 - accuracy: 0.5613 - val_loss: 1.3914 - val_accuracy: 0.5119\n",
            "Epoch 14/15\n",
            "391/391 [==============================] - 31s 81ms/step - loss: 1.1799 - accuracy: 0.5764 - val_loss: 1.4175 - val_accuracy: 0.5125\n",
            "Epoch 15/15\n",
            "391/391 [==============================] - 32s 81ms/step - loss: 1.1464 - accuracy: 0.5887 - val_loss: 1.4201 - val_accuracy: 0.5092\n",
            "Test loss: 1.4201167821884155\n",
            "Test accuracy: 0.5091999769210815\n"
          ],
          "name": "stdout"
        }
      ]
    },
    {
      "cell_type": "code",
      "metadata": {
        "id": "5w29ReKaUl8O"
      },
      "source": [
        "#summarizehistory"
      ],
      "execution_count": null,
      "outputs": []
    },
    {
      "cell_type": "code",
      "metadata": {
        "colab": {
          "base_uri": "https://localhost:8080/",
          "height": 590
        },
        "id": "cR4PhutqUoWO",
        "outputId": "1b785ed7-5d46-4c28-9889-85307f0293e6"
      },
      "source": [
        "#history = model.fit(x_train, y_train, validation_split=0.33, epochs=150, batch_size=10, verbose=0)\n",
        "# list all data in history\n",
        "print(history.history.keys())\n",
        "# summarize history for accuracy\n",
        "plt.plot(history.history['accuracy'])\n",
        "plt.plot(history.history['val_accuracy'])\n",
        "plt.title('model accuracy')\n",
        "plt.ylabel('accuracy')\n",
        "plt.xlabel('epoch')\n",
        "plt.legend(['train', 'test'], loc='upper left')\n",
        "plt.show()\n",
        "# summarize history for loss\n",
        "plt.plot(history.history['loss'])\n",
        "plt.plot(history.history['val_loss'])\n",
        "plt.title('model loss')\n",
        "plt.ylabel('loss')\n",
        "plt.xlabel('epoch')\n",
        "plt.legend(['train', 'test'], loc='upper left')\n",
        "plt.show()"
      ],
      "execution_count": 13,
      "outputs": [
        {
          "output_type": "stream",
          "text": [
            "dict_keys(['loss', 'accuracy', 'val_loss', 'val_accuracy'])\n"
          ],
          "name": "stdout"
        },
        {
          "output_type": "display_data",
          "data": {
            "image/png": "[encoded data removed]",
            "text/plain": [
              "<Figure size 432x288 with 1 Axes>"
            ]
          },
          "metadata": {
            "tags": [],
            "needs_background": "light"
          }
        },
        {
          "output_type": "display_data",
          "data": {
            "image/png": "[encoded data removed]",
            "text/plain": [
              "<Figure size 432x288 with 1 Axes>"
            ]
          },
          "metadata": {
            "tags": [],
            "needs_background": "light"
          }
        }
      ]
    },
    {
      "cell_type": "code",
      "metadata": {
        "id": "3pmuL-rFZmfX"
      },
      "source": [
        "#nexttwocellforcifar100"
      ],
      "execution_count": 14,
      "outputs": []
    },
    {
      "cell_type": "code",
      "metadata": {
        "colab": {
          "base_uri": "https://localhost:8080/"
        },
        "id": "8ffM7aYvblPa",
        "outputId": "48af0b7e-8559-4d2b-98cd-3f46c82906a6"
      },
      "source": [
        "import tensorflow as tf\n",
        "print(tf.__version__)\n",
        "(train_x, train_y), (test_x, test_y) = tf.keras.datasets.cifar10.load_data()"
      ],
      "execution_count": 16,
      "outputs": [
        {
          "output_type": "stream",
          "text": [
            "2.4.1\n"
          ],
          "name": "stdout"
        }
      ]
    },
    {
      "cell_type": "code",
      "metadata": {
        "colab": {
          "base_uri": "https://localhost:8080/"
        },
        "id": "T34_81p_U0CU",
        "outputId": "cfd987b4-94d1-456f-8987-c168a0febdc9"
      },
      "source": [
        "from keras.datasets import cifar10\n",
        "batch_size = 128\n",
        "num_classes = 10\n",
        "epochs = 2\n",
        "\n",
        "# the data, split between train and test sets\n",
        "(x_train, y_train), (x_test, y_test) = cifar10.load_data()\n",
        "print('x_train shape:', x_train.shape)\n",
        "print(x_train.shape[0], 'train samples')\n",
        "print(x_test.shape[0], 'test samples')\n",
        "\n",
        "x_train = x_train.reshape(50000, 3072)\n",
        "x_test = x_test.reshape(10000, 3072)\n",
        "x_train = x_train.astype('float32')\n",
        "x_test = x_test.astype('float32')\n",
        "\n",
        "# Normalize to 0 to 1 range\n",
        "x_train /= 255\n",
        "x_test /= 255\n",
        "\n",
        "print(x_train.shape[0], 'train samples')\n",
        "print(x_test.shape[0], 'test samples')\n",
        "# convert class vectors to binary class matrices\n",
        "y_train = keras.utils.to_categorical(y_train, num_classes)\n",
        "y_test = keras.utils.to_categorical(y_test, num_classes)\n"
      ],
      "execution_count": 18,
      "outputs": [
        {
          "output_type": "stream",
          "text": [
            "x_train shape: (50000, 32, 32, 3)\n",
            "50000 train samples\n",
            "10000 test samples\n",
            "50000 train samples\n",
            "10000 test samples\n"
          ],
          "name": "stdout"
        }
      ]
    },
    {
      "cell_type": "code",
      "metadata": {
        "colab": {
          "base_uri": "https://localhost:8080/"
        },
        "id": "bUq1OtXqU6gR",
        "outputId": "e14a4cc0-69c8-4cff-b9ce-63efcc318cff"
      },
      "source": [
        "from keras.layers import Dropout\n",
        "from keras.optimizers import Adam\n",
        "\n",
        "model = Sequential()\n",
        "\n",
        "model.add(Dense(4096,activation='relu', input_shape=(3072,)))\n",
        "\n",
        "model.add(Dense(1024, activation='relu'))\n",
        "\n",
        "model.add(Dense(512, activation='relu'))\n",
        "model.add(Dense(128, activation='relu'))\n",
        "model.add(Dense(64, activation='relu'))\n",
        "model.add(Dense(32, activation='relu'))\n",
        "model.add(Dense(num_classes, activation='softmax'))\n",
        "\n",
        "model.summary()\n",
        "model.compile(loss='categorical_crossentropy',\n",
        "              optimizer=Adam(),\n",
        "              metrics=['accuracy'])\n",
        "\n",
        "history = model.fit(x_train, y_train,\n",
        "                    batch_size=batch_size,\n",
        "                    epochs=10,\n",
        "                    verbose=1,\n",
        "                    validation_data=(x_test, y_test))\n",
        "score = model.evaluate(x_test, y_test, verbose=0)\n",
        "print('Test loss:', score[0])\n",
        "print('Test accuracy:', score[1])"
      ],
      "execution_count": 19,
      "outputs": [
        {
          "output_type": "stream",
          "text": [
            "Model: \"sequential_3\"\n",
            "_________________________________________________________________\n",
            "Layer (type)                 Output Shape              Param #   \n",
            "=================================================================\n",
            "dense_21 (Dense)             (None, 4096)              12587008  \n",
            "_________________________________________________________________\n",
            "dense_22 (Dense)             (None, 1024)              4195328   \n",
            "_________________________________________________________________\n",
            "dense_23 (Dense)             (None, 512)               524800    \n",
            "_________________________________________________________________\n",
            "dense_24 (Dense)             (None, 128)               65664     \n",
            "_________________________________________________________________\n",
            "dense_25 (Dense)             (None, 64)                8256      \n",
            "_________________________________________________________________\n",
            "dense_26 (Dense)             (None, 32)                2080      \n",
            "_________________________________________________________________\n",
            "dense_27 (Dense)             (None, 10)                330       \n",
            "=================================================================\n",
            "Total params: 17,383,466\n",
            "Trainable params: 17,383,466\n",
            "Non-trainable params: 0\n",
            "_________________________________________________________________\n",
            "Epoch 1/10\n",
            "391/391 [==============================] - 104s 264ms/step - loss: 2.2507 - accuracy: 0.1471 - val_loss: 1.9143 - val_accuracy: 0.3015\n",
            "Epoch 2/10\n",
            "391/391 [==============================] - 103s 264ms/step - loss: 1.8540 - accuracy: 0.3254 - val_loss: 1.7252 - val_accuracy: 0.3731\n",
            "Epoch 3/10\n",
            "391/391 [==============================] - 103s 265ms/step - loss: 1.7119 - accuracy: 0.3786 - val_loss: 1.6901 - val_accuracy: 0.3895\n",
            "Epoch 4/10\n",
            "391/391 [==============================] - 104s 266ms/step - loss: 1.6296 - accuracy: 0.4163 - val_loss: 1.5927 - val_accuracy: 0.4300\n",
            "Epoch 5/10\n",
            "391/391 [==============================] - 104s 265ms/step - loss: 1.5571 - accuracy: 0.4408 - val_loss: 1.5082 - val_accuracy: 0.4668\n",
            "Epoch 6/10\n",
            "391/391 [==============================] - 104s 266ms/step - loss: 1.4963 - accuracy: 0.4664 - val_loss: 1.5252 - val_accuracy: 0.4540\n",
            "Epoch 7/10\n",
            "391/391 [==============================] - 104s 265ms/step - loss: 1.4615 - accuracy: 0.4768 - val_loss: 1.4843 - val_accuracy: 0.4691\n",
            "Epoch 8/10\n",
            "391/391 [==============================] - 104s 266ms/step - loss: 1.4112 - accuracy: 0.4951 - val_loss: 1.4407 - val_accuracy: 0.4898\n",
            "Epoch 9/10\n",
            "391/391 [==============================] - 104s 266ms/step - loss: 1.3825 - accuracy: 0.5058 - val_loss: 1.4097 - val_accuracy: 0.4951\n",
            "Epoch 10/10\n",
            "391/391 [==============================] - 104s 265ms/step - loss: 1.3394 - accuracy: 0.5193 - val_loss: 1.4491 - val_accuracy: 0.4896\n",
            "Test loss: 1.4490747451782227\n",
            "Test accuracy: 0.4896000027656555\n"
          ],
          "name": "stdout"
        }
      ]
    }
  ]
}